{
 "cells": [
  {
   "cell_type": "code",
   "execution_count": 2,
   "metadata": {
    "ExecuteTime": {
     "end_time": "2018-02-27T09:46:00.857016Z",
     "start_time": "2018-02-27T09:46:00.854715Z"
    },
    "init_cell": true,
    "slideshow": {
     "slide_type": "skip"
    }
   },
   "outputs": [],
   "source": [
    "import ihtml"
   ]
  },
  {
   "cell_type": "markdown",
   "metadata": {
    "ExecuteTime": {
     "end_time": "2017-12-01T18:30:31.366323Z",
     "start_time": "2017-12-01T18:30:31.355336Z"
    },
    "slideshow": {
     "slide_type": "slide"
    }
   },
   "source": [
    "  # Mapping the epitranscriptome with Nanopore direct RNA Sequencing\n",
    "\n",
    "### Adrien Leger,  EMBL EIPOD/Marie Curie fellow\n",
    "\n",
    "#### Anton Enright Group, Dept of Pathology, University of Cambridge\n",
    "\n",
    "#### Ewan Birney Group, EMBL-EBI\n",
    "\n",
    "#### [aleg@ebi.ac.uk](aleg@ebi.ac.uk) / [a-slide @github](https://github.com/a-slide)\n",
    "\n",
    "**Other people involved in the project**\n",
    "* Aurelien Guy Duché (EMBL-EBI)\n",
    "* Tomas Fitzgerald (EMBL-EBI)\n",
    "* Tommaso Leonardi (Gurdon Institute)\n",
    "* Paulo Amaral (Gurdon Institute)\n",
    "* Harvey Che (Gurdon Institute)"
   ]
  },
  {
   "cell_type": "markdown",
   "metadata": {
    "heading_collapsed": true,
    "slideshow": {
     "slide_type": "slide"
    }
   },
   "source": [
    "# The Epitranscriptome\n",
    "\n",
    "##### Collection of all the RNA post-transcriptional modifications (PTM)\n",
    "\n",
    "* Highly conserved feature found in archaea, bacteria and eukarya (+ positional conservation)\n",
    "* More than 100 RNA known modifications\n",
    "\n",
    "![](images/Common_nucleosides.svg)\n"
   ]
  },
  {
   "cell_type": "markdown",
   "metadata": {
    "hidden": true,
    "slideshow": {
     "slide_type": "subslide"
    }
   },
   "source": [
    "## RNA modifications in rRNA and tRNA\n",
    "\n",
    "![](images/rRNA_tRNA_modif.png)\n",
    "\n",
    "* Heavily modified\n",
    "* Participate in the RNA folding and stability \n",
    "* Modify ligand interactions particularly in the tRNA anticodon region"
   ]
  },
  {
   "cell_type": "markdown",
   "metadata": {
    "hidden": true,
    "slideshow": {
     "slide_type": "subslide"
    }
   },
   "source": [
    "## RNA modifications in messenger RNAs\n",
    "\n",
    "* Terminal modifications are well known\n",
    "\n",
    "    * PolyA tailing +- Urydinylation\n",
    "\t* 5' capping with 7' Methylguanosine\n",
    "\n",
    "* Internal modifications recently described by NGS based methods\n",
    "\n",
    "\t* PTM IP + NGS ➡️ **m6A, m1A, m6Am**\n",
    "\t* Chemical treatment + NGS ➡️ **m5C, 5hmC, Pseudouridine**\n",
    "\t* Direct sequencing + Editing detection ➡️ **Inosine**\n",
    "    \n",
    "![](images/m6Aseq.png)"
   ]
  },
  {
   "cell_type": "markdown",
   "metadata": {
    "hidden": true,
    "slideshow": {
     "slide_type": "subslide"
    }
   },
   "source": [
    "## Role of RNA modifications in mRNA regulation \n",
    "\n",
    "* Writer, Eraser and Reader proteins found for some modifications ➡️ **Dynamic layer**\n",
    "* Various functions in mRNA splicing, stability, translation, decay...  \n",
    "* Some modification can alter **RNA structure**\n",
    "* Direct or indirect impact on **protein recruitment**\n",
    "\n",
    "![](images/m6A_switch.jpg)\n",
    "\n",
    "<small>Liu, N. et al. N6-methyladenosine-dependent RNA structural switches regulate RNA-protein interactions. Nature 518, 560–564 (2015).\n",
    "</small> "
   ]
  },
  {
   "cell_type": "markdown",
   "metadata": {
    "slideshow": {
     "slide_type": "slide"
    }
   },
   "source": [
    "# Towards more sensitive methods for RNA modifications\n",
    "\n",
    "* **Quantitative analysis of modified RNA nucleosides by LC-MS/MS **\n",
    "\n",
    "\t⊕ Cheap, quick, quantitative, simultaneous detection of many PTM\n",
    "    \n",
    "\t⊝ No sequence information\n",
    "    \n",
    "\n",
    "*  **Native detection of PTM by Nanopore direct RNA sequencing**    \n",
    "\n",
    "\t⊕ Virtually no processing of samples, single molecule, single nucleotide resolution\n",
    "    \n",
    "\t⊝ Early days, lower accuracy, probably not quantitative"
   ]
  },
  {
   "cell_type": "markdown",
   "metadata": {
    "slideshow": {
     "slide_type": "slide"
    }
   },
   "source": [
    "## Overview of nanopore sequencing"
   ]
  },
  {
   "cell_type": "code",
   "execution_count": 13,
   "metadata": {
    "ExecuteTime": {
     "end_time": "2018-02-26T14:38:50.955964Z",
     "start_time": "2018-02-26T14:38:50.950411Z"
    },
    "slideshow": {
     "slide_type": "subslide"
    }
   },
   "outputs": [
    {
     "data": {
      "text/html": [
       "\n",
       "        <iframe\n",
       "            width=\"100%\"\n",
       "            height=\"1100\"\n",
       "            src=\"data:text/html;base64,PGlmcmFtZSBhbGlnbj0ibWlkZGxlIiB3aWR0aD0iMTc3NyIgaGVpZ2h0PSIxMDAwIiBzcmM9Imh0dHBzOi8vd3d3LnlvdXR1YmUuY29tL2VtYmVkL0dVYjFUWnZNV3N3IiBmcmFtZWJvcmRlcj0iMCIgYWxsb3c9ImF1dG9wbGF5OyBlbmNyeXB0ZWQtbWVkaWEiIGFsbG93ZnVsbHNjcmVlbj48L2lmcmFtZT4=\"\n",
       "            frameborder=\"0\"\n",
       "            allowfullscreen\n",
       "        ></iframe>\n",
       "        "
      ]
     },
     "metadata": {},
     "output_type": "display_data"
    }
   ],
   "source": [
    "%%ihtml 1100\n",
    "<iframe align=\"middle\" width=\"1777\" height=\"1000\" src=\"https://www.youtube.com/embed/GUb1TZvMWsw\" frameborder=\"0\" allow=\"autoplay; encrypted-media\" allowfullscreen></iframe>"
   ]
  },
  {
   "cell_type": "markdown",
   "metadata": {
    "slideshow": {
     "slide_type": "subslide"
    }
   },
   "source": [
    "## Native detection of PTM by Nanopore direct RNA sequencing\n",
    "\n",
    "5/6 bases at the time in the pore = context\n",
    "\n",
    "Already shown for DNA and a specific positions of rRNA\n",
    "\n",
    "<img src=\"images/RNA_mod_nanopore.png\" width=\"1600\">"
   ]
  },
  {
   "cell_type": "markdown",
   "metadata": {
    "ExecuteTime": {
     "end_time": "2017-12-04T19:59:04.731505Z",
     "start_time": "2017-12-04T19:59:04.723194Z"
    },
    "slideshow": {
     "slide_type": "subslide"
    }
   },
   "source": [
    "## How to predict RNA modifications by nanopore sequencing \n",
    "\n",
    "**Direct basecalling of modified nucleotides from raw signal**\n",
    "\n",
    "* Based on Deep Learning Basecalling\n",
    "* Training from a labeled datasets with all the possible kmers combinations \n",
    "* Elegant and powerful but very complex\n",
    "\n",
    "**Post-processing of the basecalled signal**\n",
    "\n",
    "* Post basecalling with a modification tolerant basecaller  \n",
    "* Identify bases that are modified by comparing to canonical or alternative models\n",
    "* Easier, but probably less sensitive\n"
   ]
  },
  {
   "cell_type": "markdown",
   "metadata": {
    "slideshow": {
     "slide_type": "subslide"
    }
   },
   "source": [
    "## Nanopore training experimental strategy\n",
    "\n",
    "<img src=\"images/Nanopore-workflow.svg\" width=\"1600\">"
   ]
  },
  {
   "cell_type": "markdown",
   "metadata": {
    "ExecuteTime": {
     "end_time": "2018-02-26T21:31:39.683878Z",
     "start_time": "2018-02-26T21:31:39.670591Z"
    },
    "slideshow": {
     "slide_type": "subslide"
    }
   },
   "source": [
    "## Example of raw signal trace obtained \n",
    "\n",
    "<img src=\"images/traces.png\" width=\"1600\">"
   ]
  },
  {
   "cell_type": "markdown",
   "metadata": {
    "ExecuteTime": {
     "end_time": "2017-12-05T11:04:09.551090Z",
     "start_time": "2017-12-05T11:04:09.437189Z"
    },
    "slideshow": {
     "slide_type": "subslide"
    }
   },
   "source": [
    "## Influence of the sequence context on the ability to detect a modification\n",
    "\n",
    "<img src=\"images/kmer_through_pore.svg\" width=\"1400\">"
   ]
  },
  {
   "cell_type": "markdown",
   "metadata": {
    "slideshow": {
     "slide_type": "subslide"
    }
   },
   "source": [
    "## Sequence distribution of training blocks\n",
    "\n",
    "<img src=\"images/seq_distrib_plot.svg\" width=\"1400\">\n"
   ]
  },
  {
   "cell_type": "markdown",
   "metadata": {
    "slideshow": {
     "slide_type": "subslide"
    }
   },
   "source": [
    "## Impact of modifications on the overall block\n",
    "\n",
    "<img src=\"images/QC_plots.svg\" width=\"1400\">"
   ]
  },
  {
   "cell_type": "markdown",
   "metadata": {
    "ExecuteTime": {
     "end_time": "2017-12-05T01:04:03.308723Z",
     "start_time": "2017-12-05T01:04:03.300191Z"
    },
    "slideshow": {
     "slide_type": "slide"
    }
   },
   "source": [
    "# Kmer level analysis\n",
    "\n",
    "* Pair comparison of Signal intensities for each 5mer\n",
    "\n",
    "* Pair comparison of Dwell Time for each 5mer\n",
    "\n",
    "* Comparison of A/m6A - A/dmA - m6A/dmA with a Mann-Whitney U test + 1000 bootstraps → Empirical p-value\n",
    "\n",
    "* Combine the 2 p-values with Fisher's method \n",
    "\n",
    "* Plot the distribution of p-values for all 5mers"
   ]
  },
  {
   "cell_type": "markdown",
   "metadata": {
    "ExecuteTime": {
     "end_time": "2018-02-27T00:13:26.261274Z",
     "start_time": "2018-02-27T00:13:26.080139Z"
    },
    "slideshow": {
     "slide_type": "subslide"
    }
   },
   "source": [
    "## Significantly different 5mers with central modification\n",
    "\n",
    "<img src=\"images/pos0_pvalue.svg\" width=\"1000\">"
   ]
  },
  {
   "cell_type": "markdown",
   "metadata": {
    "ExecuteTime": {
     "end_time": "2018-02-27T00:13:26.261274Z",
     "start_time": "2018-02-27T00:13:26.080139Z"
    },
    "slideshow": {
     "slide_type": "fragment"
    }
   },
   "source": [
    "**Percentage of significant 5mers (p-value < 0.05)**\n",
    "\n",
    "<table align=\"left\" style=\"font-size:75%;\">\n",
    "  <tr>\n",
    "    <th></th>\n",
    "    <th>Signal intensity<br></th>\n",
    "    <th>Dwell time<br></th>\n",
    "    <th>Combination</th>\n",
    "  </tr>\n",
    "  <tr>\n",
    "    <th>A/m6A</th>\n",
    "    <td>68.36 %<br></td>\n",
    "    <td>37.50 %<br></td>\n",
    "    <td>73.05 %</td>\n",
    "  </tr>\n",
    "  <tr>\n",
    "    <th>A/dmA</th>\n",
    "    <td>76.17 %<br></td>\n",
    "    <td>27.34 %<br></td>\n",
    "    <td>76.56 %<br></td>\n",
    "  </tr>\n",
    "  <tr>\n",
    "    <th>m6A/dmA</th>\n",
    "    <td>41.80 %<br></td>\n",
    "    <td>26.17 %<br></td>\n",
    "    <td>48.44 %<br></td>\n",
    "  </tr>\n",
    "</table></div>"
   ]
  },
  {
   "cell_type": "markdown",
   "metadata": {
    "ExecuteTime": {
     "end_time": "2018-02-27T00:15:08.275704Z",
     "start_time": "2018-02-27T00:15:08.055716Z"
    },
    "slideshow": {
     "slide_type": "subslide"
    }
   },
   "source": [
    "## Significantly different adjacent 5mers\n",
    "\n",
    "<img src=\"images/all_pos_pvalue.svg\" width=\"1400\">"
   ]
  },
  {
   "cell_type": "markdown",
   "metadata": {
    "ExecuteTime": {
     "end_time": "2018-02-27T00:15:08.275704Z",
     "start_time": "2018-02-27T00:15:08.055716Z"
    },
    "slideshow": {
     "slide_type": "fragment"
    }
   },
   "source": [
    "**Percentage of significant 5mers (p-value < 0.05)**\n",
    "\n",
    "<table align=\"left\" style=\"font-size:75%;\">\n",
    "  <tr>\n",
    "    <th class=\"tg-yw4l\"></th>\n",
    "    <th class=\"tg-yw4l\">Position -2</th>\n",
    "    <th class=\"tg-yw4l\">Position -1</th>\n",
    "    <th class=\"tg-yw4l\">Position 0</th>\n",
    "    <th class=\"tg-yw4l\">Position 1</th>\n",
    "    <th class=\"tg-yw4l\">Position 2</th>\n",
    "  </tr>\n",
    "  <tr>\n",
    "    <th class=\"tg-yw4l\">A/m6A</td>\n",
    "    <td class=\"tg-yw4l\">86.72 %</td>\n",
    "    <td class=\"tg-yw4l\">91.02 %</td>\n",
    "    <td class=\"tg-yw4l\">73.05 %</td>\n",
    "    <td class=\"tg-yw4l\">62.89 %</td>\n",
    "    <td class=\"tg-yw4l\">59.38 %</td>\n",
    "  </tr>\n",
    "  <tr>\n",
    "    <th class=\"tg-yw4l\">A/dmA</td>\n",
    "    <td class=\"tg-yw4l\">72.94 %</td>\n",
    "    <td class=\"tg-yw4l\">73.44 %</td>\n",
    "    <td class=\"tg-yw4l\">76.56 %</td>\n",
    "    <td class=\"tg-yw4l\">46.48 %</td>\n",
    "    <td class=\"tg-yw4l\">48.44 %</td>\n",
    "  </tr>\n",
    "  <tr>\n",
    "    <th class=\"tg-yw4l\">m6A/dmA</td>\n",
    "    <td class=\"tg-yw4l\">76.86 %</td>\n",
    "    <td class=\"tg-yw4l\">70.31 %</td>\n",
    "    <td class=\"tg-yw4l\">48.44 %</td>\n",
    "    <td class=\"tg-yw4l\">27.34 %</td>\n",
    "    <td class=\"tg-yw4l\">33.98 %</td>\n",
    "  </tr>\n",
    "</table>"
   ]
  },
  {
   "cell_type": "markdown",
   "metadata": {
    "slideshow": {
     "slide_type": "subslide"
    }
   },
   "source": [
    "## Combining 5-mers in 7 and 9-mers\n",
    "\n",
    "<img src=\"images/7-9mers_combine.svg\" width=\"1000\">"
   ]
  },
  {
   "attachments": {},
   "cell_type": "markdown",
   "metadata": {
    "slideshow": {
     "slide_type": "fragment"
    }
   },
   "source": [
    "**Percentage of significant composite kmers (p-value < 0.05)**\n",
    "\n",
    "<table align=\"left\" style=\"font-size:75%;\">\n",
    "  <tr>\n",
    "    <th class=\"tg-yw4l\"></th>\n",
    "    <th class=\"tg-yw4l\">Composite 7mers</th>\n",
    "    <th class=\"tg-yw4l\">Composite 9mers</th>\n",
    "  </tr>\n",
    "  <tr>\n",
    "    <th class=\"tg-yw4l\">A/m6A</td>\n",
    "    <td class=\"tg-yw4l\">97.34%</td>\n",
    "    <td class=\"tg-yw4l\">99.8%</td>\n",
    "  </tr>\n",
    "  <tr>\n",
    "    <th class=\"tg-yw4l\">A/dmA</td>\n",
    "    <td class=\"tg-yw4l\">91.7%</td>\n",
    "    <td class=\"tg-yw4l\">97.75%</td>\n",
    "  </tr>\n",
    "  <tr>\n",
    "    <th class=\"tg-yw4l\">m6A/dmA</td>\n",
    "    <td class=\"tg-yw4l\">79.42%</td>\n",
    "    <td class=\"tg-yw4l\">92.44%</td>\n",
    "  </tr>\n",
    "</table>"
   ]
  },
  {
   "cell_type": "code",
   "execution_count": null,
   "metadata": {},
   "outputs": [],
   "source": []
  },
  {
   "cell_type": "code",
   "execution_count": null,
   "metadata": {},
   "outputs": [],
   "source": []
  },
  {
   "cell_type": "markdown",
   "metadata": {
    "heading_collapsed": true,
    "slideshow": {
     "slide_type": "slide"
    }
   },
   "source": [
    "# What's next ?\n",
    "\n",
    "**Generate more concatemers data for more modifications with higher depth**\n",
    "* Improved ligation protocol to yield longer concatemers\n",
    "* New oligos design to improve ligation efficiency and simplify block segmentation\n",
    "* 10 modifications (A, 2'Ome-A, m6A, m2A, I, U, 2'Ome-U, m3U, PseudoU, dihydroU)\n",
    "* Explore on chip maskless photolithographic synthesis  \n",
    "\n",
    "**RNA specific modification-aware basecaller**\n",
    "* Need a better training dataset\n",
    "* Update basecaller to deal with extra output states\n",
    "* High performance GPU workstation\n",
    "\n",
    "**Pair comparison of unmodified vs modified (Nanoraw, Nanopolish, Tombo...)**\n",
    "* Modification Writer KO / In vitro transcription\n",
    "* For a specific RNA (XIST for example) RNA vs IVT cDNA\n",
    "\n",
    "**Integration of single nucleotide modification maps with structural datasets**\n",
    "* SHAPE-Seq of epitranscriptomics KO\n",
    "* Identify modification switches"
   ]
  }
 ],
 "metadata": {
  "celltoolbar": "Slideshow",
  "hide_input": true,
  "kernelspec": {
   "display_name": "Python 3",
   "language": "python",
   "name": "python3"
  },
  "language_info": {
   "codemirror_mode": {
    "name": "ipython",
    "version": 3
   },
   "file_extension": ".py",
   "mimetype": "text/x-python",
   "name": "python",
   "nbconvert_exporter": "python",
   "pygments_lexer": "ipython3",
   "version": "3.5.4"
  },
  "livereveal": {
   "scroll": true
  }
 },
 "nbformat": 4,
 "nbformat_minor": 2
}
