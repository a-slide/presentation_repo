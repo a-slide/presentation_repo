{
 "cells": [
  {
   "cell_type": "markdown",
   "metadata": {
    "ExecuteTime": {
     "end_time": "2017-12-01T18:30:31.366323Z",
     "start_time": "2017-12-01T18:30:31.355336Z"
    },
    "slideshow": {
     "slide_type": "slide"
    }
   },
   "source": [
    "  # Mapping the epitranscriptome with LC-MS/MS and nanopore direct RNA Sequencing\n",
    "\n",
    "### Adrien Leger,  EMBL EIPOD/Marie Curie fellow\n",
    "\n",
    "#### Anton Enright Group, Dept of Pathology, University of Cambridge\n",
    "\n",
    "#### Ewan Birney Group, EMBL-EBI\n",
    "\n",
    "#### [aleg@ebi.ac.uk](aleg@ebi.ac.uk) / [a-slide @github](https://github.com/a-slide)\n",
    "\n",
    "**Other people involved in the project**\n",
    "* Aurelien Guy Duché (EMBL-EBI)\n",
    "* Tomas Fitzgerald (EMBL-EBI)\n",
    "* Tommaso Leonardi (Gurdon Institute)\n",
    "* Paulo Amaral (Gurdon Institute)\n",
    "* Harvey Che (Gurdon Institute)"
   ]
  },
  {
   "cell_type": "markdown",
   "metadata": {
    "heading_collapsed": true,
    "slideshow": {
     "slide_type": "slide"
    }
   },
   "source": [
    "# The Epitranscriptome\n",
    "\n",
    "##### Collection of all the RNA post-transcriptional modifications (PTM)\n",
    "\n",
    "* Highly conserved feature found in archaea, bacteria and eukarya (+ positional conservation)\n",
    "* More than 100 RNA known modifications\n",
    "\n",
    "![](images/Common_nucleosides.svg)"
   ]
  },
  {
   "cell_type": "markdown",
   "metadata": {
    "hidden": true,
    "slideshow": {
     "slide_type": "subslide"
    }
   },
   "source": [
    "## RNA modifications in rRNA and tRNA\n",
    "\n",
    "![](images/rRNA_tRNA_modif.png)\n",
    "\n",
    "* Heavily modified\n",
    "* Participate in the RNA folding and stability \n",
    "* Modify ligand interactions particularly in the tRNA anticodon region"
   ]
  },
  {
   "cell_type": "markdown",
   "metadata": {
    "hidden": true,
    "slideshow": {
     "slide_type": "subslide"
    }
   },
   "source": [
    "## RNA modifications in messenger RNAs\n",
    "\n",
    "* Terminal modifications are well known\n",
    "\n",
    "    * PolyA tailing +- Urydinylation\n",
    "\t* 5' capping with 7' Methylguanosine\n",
    "\n",
    "* Internal modifications recently described by NGS based methods\n",
    "\n",
    "\t* PTM IP + NGS ➡️ **m6A, m1A, m6Am**\n",
    "\t* Chemical treatment + NGS ➡️ **m5C, 5hmC, Pseudouridine**\n",
    "\t* Direct sequencing + Editing detection ➡️ **Inosine**\n",
    "    \n",
    "![](images/m6Aseq.png)"
   ]
  },
  {
   "cell_type": "markdown",
   "metadata": {
    "hidden": true,
    "slideshow": {
     "slide_type": "subslide"
    }
   },
   "source": [
    "## Role of RNA modifications in mRNA regulation \n",
    "\n",
    "* Writer, Eraser and Reader proteins found for some modifications ➡️ **Dynamic layer**\n",
    "* Various functions in mRNA splicing, stability, translation, decay...  \n",
    "* Some modification can alter **RNA structure**\n",
    "* Direct or indirect impact on **protein recruitment**\n",
    "\n",
    "![](images/m6A_switch.jpg)\n",
    "\n",
    "<small>Liu, N. et al. N6-methyladenosine-dependent RNA structural switches regulate RNA-protein interactions. Nature 518, 560–564 (2015).\n",
    "</small> "
   ]
  },
  {
   "cell_type": "markdown",
   "metadata": {
    "hidden": true,
    "slideshow": {
     "slide_type": "subslide"
    }
   },
   "source": [
    "## Overview of various mRNA PTM and their suggested functions\n",
    "\n",
    "![](images/mRNA_mod_loc.png)\n",
    "\n",
    "<small>Hoernes, T. P. and Erlacher, M. D. Translating the epitranscriptome. Wiley Interdiscip Rev RNA (2016)</small> "
   ]
  },
  {
   "cell_type": "markdown",
   "metadata": {
    "slideshow": {
     "slide_type": "slide"
    }
   },
   "source": [
    "# Towards more sensitive methods for RNA modifications\n",
    "\n",
    "* **Quantitative analysis of modified RNA nucleosides by LC-MS/MS **\n",
    "\n",
    "\t⊕ Cheap, quick, quantitative, simultaneous detection of many PTM\n",
    "    \n",
    "\t⊝ No sequence information\n",
    "    \n",
    "\n",
    "*  **Native detection of PTM by Nanopore direct RNA sequencing**    \n",
    "\n",
    "\t⊕ Virtually no processing of samples, single molecule, single nucleotide resolution\n",
    "    \n",
    "\t⊝ Early days, lower accuracy, very competitive"
   ]
  },
  {
   "cell_type": "markdown",
   "metadata": {
    "slideshow": {
     "slide_type": "slide"
    }
   },
   "source": [
    "## Detecting and quantifying RNA modifications by MS\n",
    "\n",
    "\n",
    "![](images/mRNA_PTM_mass.png)"
   ]
  },
  {
   "cell_type": "markdown",
   "metadata": {
    "ExecuteTime": {
     "end_time": "2017-12-04T18:54:07.879918Z",
     "start_time": "2017-12-04T18:54:07.757464Z"
    },
    "slideshow": {
     "slide_type": "subslide"
    }
   },
   "source": [
    "## LC MS/MS experimental strategy\n",
    "\n",
    "![](images/MS-workflow.png)"
   ]
  },
  {
   "cell_type": "markdown",
   "metadata": {
    "slideshow": {
     "slide_type": "subslide"
    }
   },
   "source": [
    "## LC MS/MS Preliminary results\n",
    "\n",
    "![](images/MS_nucleosides_example.png)"
   ]
  },
  {
   "cell_type": "markdown",
   "metadata": {
    "slideshow": {
     "slide_type": "slide"
    }
   },
   "source": [
    "## Native detection of PTM by Nanopore direct RNA sequencing\n",
    "\n",
    "5/6 bases at the time in the pore = context \n",
    "Already shown for DNA and a specific positions of rRNA\n",
    "\n",
    "![](images/RNA_mod_nanopore.png)"
   ]
  },
  {
   "cell_type": "markdown",
   "metadata": {
    "ExecuteTime": {
     "end_time": "2017-12-04T19:59:04.731505Z",
     "start_time": "2017-12-04T19:59:04.723194Z"
    },
    "slideshow": {
     "slide_type": "subslide"
    }
   },
   "source": [
    "## How to detect RNA modifications by nanopore sequencing \n",
    "\n",
    "**Direct basecalling of modified nucleotides from the raw signal**\n",
    "\n",
    "* Based on Deep Learning Basecalling\n",
    "* Training from a labeled raw signal with all the possible kmers combinations \n",
    "* Can potentially identify a large number of modified bases simultaneously\n",
    "\n",
    "**Post-processing of the basecalled signal**\n",
    "\n",
    "* Post basecalling with a modification tolerant basecaller  \n",
    "* Much simpler approach\n",
    "* Compare paired modified/ modified conditions OR use a model for a modified base \n",
    "* Only indicate the presence of a particular modification "
   ]
  },
  {
   "cell_type": "markdown",
   "metadata": {
    "slideshow": {
     "slide_type": "subslide"
    }
   },
   "source": [
    "## Nanopore training experimental strategy\n",
    "    \n",
    "![](images/Nanopore-workflow.png)"
   ]
  },
  {
   "cell_type": "markdown",
   "metadata": {
    "slideshow": {
     "slide_type": "subslide"
    }
   },
   "source": [
    "## Where are the barcoded blocks ?\n",
    "\n",
    "Basecalling with Albacore 2.1 for RNA \n",
    "\n",
    "![](images/traces.png)\n",
    "\n",
    "From 82,418 valid Fast5 files (1M total) 110,884 blocks found only"
   ]
  },
  {
   "cell_type": "markdown",
   "metadata": {
    "slideshow": {
     "slide_type": "subslide"
    }
   },
   "source": [
    "## Preliminary data for m6A and dmA\n",
    "\n",
    "![](images/Nanopore_distrib.png)"
   ]
  },
  {
   "cell_type": "markdown",
   "metadata": {
    "ExecuteTime": {
     "end_time": "2017-12-05T01:04:03.308723Z",
     "start_time": "2017-12-05T01:04:03.300191Z"
    },
    "slideshow": {
     "slide_type": "subslide"
    }
   },
   "source": [
    "## Preliminary data for m6A and dmA\n",
    "\n",
    "For all the 9-mers with a mod in the center\n",
    "\n",
    "Extract all the 5-mers\n",
    "\n",
    "Generate an artificial average signal\n",
    "\n",
    "![](images/artificial_traces.png)"
   ]
  },
  {
   "cell_type": "markdown",
   "metadata": {
    "ExecuteTime": {
     "end_time": "2017-12-05T11:04:09.551090Z",
     "start_time": "2017-12-05T11:04:09.437189Z"
    },
    "slideshow": {
     "slide_type": "subslide"
    }
   },
   "source": [
    "## Influence of the sequence context on the ability to detect a modification\n",
    "![](images/kmer_through_pore.png)\n"
   ]
  },
  {
   "cell_type": "markdown",
   "metadata": {
    "ExecuteTime": {
     "end_time": "2017-12-05T11:04:09.551090Z",
     "start_time": "2017-12-05T11:04:09.437189Z"
    },
    "slideshow": {
     "slide_type": "subslide"
    }
   },
   "source": [
    "## Influence of the sequence context on the ability to detect a modification\n",
    "![](images/MW_test.png)\n"
   ]
  },
  {
   "cell_type": "markdown",
   "metadata": {
    "slideshow": {
     "slide_type": "subslide"
    }
   },
   "source": [
    "## What's next ?\n",
    "\n",
    "**Generate more concatemers data for more modifications with higher depth**\n",
    "* Improved ligation protocol to yield longer concatemers\n",
    "* New oligo design to improve ligation efficiency and simplify block segmentation\n",
    "* Better segmentation algorithm to better determine the boundaries of kmers\n",
    "\n",
    "**RNA specific modification aware basecaller**\n",
    "* Need a better training dataset\n",
    "* High performance GPU workstation\n",
    "* Possible to do better than Albacore\n",
    "\n",
    "**Pair comparison of unmodified vs modified (Nanoraw, Nanopolish, Tombo...)**\n",
    "* Modification Writer KO\n",
    "* For a specific RNA (XIST for example) RNA vs IVT cDNA\n",
    "\n",
    "**Integration of single nucleotide modification maps with structural datasets**\n",
    "* SHAPE-Seq of epitranscriptomics KO\n",
    "* Identify modification switches"
   ]
  }
 ],
 "metadata": {
  "celltoolbar": "Slideshow",
  "kernelspec": {
   "display_name": "Python 3",
   "language": "python",
   "name": "python3"
  },
  "language_info": {
   "codemirror_mode": {
    "name": "ipython",
    "version": 3
   },
   "file_extension": ".py",
   "mimetype": "text/x-python",
   "name": "python",
   "nbconvert_exporter": "python",
   "pygments_lexer": "ipython3",
   "version": "3.5.4"
  }
 },
 "nbformat": 4,
 "nbformat_minor": 2
}
