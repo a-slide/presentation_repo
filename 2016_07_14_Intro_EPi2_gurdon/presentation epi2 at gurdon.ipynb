{
 "cells": [
  {
   "cell_type": "markdown",
   "metadata": {
    "slideshow": {
     "slide_type": "slide"
    }
   },
   "source": [
    "# Epi² project\n",
    "---\n",
    "## Role of the lncRNA epitranscriptome on the epigenome regulation\n",
    "---\n",
    "### Project coordinators: Anton Enright, Adrien Leger\n",
    "---\n",
    "### Collaborators: Marco Marcia, Jyoti Choudhary ..."
   ]
  },
  {
   "cell_type": "markdown",
   "metadata": {
    "slideshow": {
     "slide_type": "slide"
    }
   },
   "source": [
    "# lncRNA\n",
    "\n",
    "* Loosely defined class of RNA\n",
    "* Long RNA \"without\" coding sequence\n",
    "* ~ 10 000 - 20 000 loci in the human genome\n",
    "* Function and mechanisms known only for  very limited number of candidate\n",
    "\n",
    "* Various functions identified (gene regulation, RNA maturation, traslation regulation ...)\n",
    "* Various mechanisms of action (RNA decoy, protein scafold, recognition guide ...) \n",
    "* Various subcellular localization (from nuclear foci to cytoplasmic only ...)\n",
    "\n",
    "** => Molecular mechanisms and functional classification ? **\n"
   ]
  },
  {
   "cell_type": "markdown",
   "metadata": {
    "slideshow": {
     "slide_type": "slide"
    }
   },
   "source": [
    "# Epitranscriptomics of lncRNA\n",
    "* All the mRNA modifications seems to be also present in lncRNA\n",
    "* Nuclear vs cytoplasmic RNA ?\n",
    "* Role in RNA folding, protein recruitment\n",
    "* Impact on isoform differential activity ?"
   ]
  },
  {
   "cell_type": "markdown",
   "metadata": {
    "slideshow": {
     "slide_type": "slide"
    }
   },
   "source": [
    "# To what extend are lncRNA modified ?\n",
    "# And by which PTM ?\n",
    "![](files/Pilot Epi2_Graph.png)"
   ]
  },
  {
   "cell_type": "markdown",
   "metadata": {
    "slideshow": {
     "slide_type": "slide"
    }
   },
   "source": [
    "# Phase 1\n",
    "## Investigation of lncRNA epitranscriptome in subcellular compartments by Orbitrap MS\n",
    "![](files/Pilot Epi2_3.png)"
   ]
  },
  {
   "cell_type": "markdown",
   "metadata": {
    "slideshow": {
     "slide_type": "slide"
    }
   },
   "source": [
    "# Phase 2 \n",
    "## Functional and structural interactions of lncRNA and chromatin\n",
    "\n",
    "![](files/EIPOD2.png)"
   ]
  },
  {
   "cell_type": "code",
   "execution_count": null,
   "metadata": {
    "collapsed": true,
    "run_control": {
     "frozen": false,
     "read_only": false
    },
    "slideshow": {
     "slide_type": "-"
    }
   },
   "outputs": [],
   "source": []
  }
 ],
 "metadata": {
  "celltoolbar": "Slideshow",
  "kernelspec": {
   "display_name": "Python 3",
   "language": "python",
   "name": "python3"
  },
  "language_info": {
   "codemirror_mode": {
    "name": "ipython",
    "version": 3
   },
   "file_extension": ".py",
   "mimetype": "text/x-python",
   "name": "python",
   "nbconvert_exporter": "python",
   "pygments_lexer": "ipython3",
   "version": "3.5.2"
  },
  "widgets": {
   "state": {},
   "version": "1.1.1"
  }
 },
 "nbformat": 4,
 "nbformat_minor": 0
}
