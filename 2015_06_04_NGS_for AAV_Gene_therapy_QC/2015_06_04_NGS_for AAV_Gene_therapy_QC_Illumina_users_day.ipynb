{
 "cells": [
  {
   "cell_type": "markdown",
   "metadata": {
    "slideshow": {
     "slide_type": "skip"
    }
   },
   "source": [
    "# PREPARE RISE PARAMETERS"
   ]
  },
  {
   "cell_type": "code",
   "execution_count": 2,
   "metadata": {
    "collapsed": false,
    "slideshow": {
     "slide_type": "skip"
    }
   },
   "outputs": [
    {
     "data": {
      "text/plain": [
       "{'start_slideshow_at': 'selected', 'theme': 'simple', 'transition': 'linear'}"
      ]
     },
     "execution_count": 2,
     "metadata": {},
     "output_type": "execute_result"
    }
   ],
   "source": [
    "from IPython.html.services.config import ConfigManager\n",
    "from IPython.utils.path import locate_profile\n",
    "cm = ConfigManager(profile_dir=locate_profile(get_ipython().profile))\n",
    "cm.update('livereveal', {\n",
    "              'theme': 'simple',\n",
    "              'transition': 'linear',\n",
    "              'start_slideshow_at': 'selected'})\n",
    "\n",
    "# transition = default/cube/page/concave/zoom/linear/none\n",
    "# theme = beige/blood/default/moon/night/serif/simple/sky/solarized\n",
    "# start_slideshow_at = selected/beginning"
   ]
  },
  {
   "cell_type": "markdown",
   "metadata": {
    "slideshow": {
     "slide_type": "slide"
    }
   },
   "source": [
    "# Advanced characterization of recombinant Adeno-Associated Virus preparations by next generation sequencing\n",
    "\n",
    "![](files/fig/AAV_micro.png)"
   ]
  },
  {
   "cell_type": "markdown",
   "metadata": {
    "slideshow": {
     "slide_type": "subslide"
    }
   },
   "source": [
    "## …Towards an exhaustive quality control of nucleic acids for gene therapy products\n",
    "\n",
    "\n",
    "**Adrien Leger - Pharmacogenomics of recombinant vectors - INSERM 1089 - Atlantic gene therapies**\n",
    "\n",
    "![](files/fig/arrow.svg)"
   ]
  },
  {
   "cell_type": "markdown",
   "metadata": {
    "slideshow": {
     "slide_type": "slide"
    }
   },
   "source": [
    "## Gene therapy for genetic diseases with recombinant Adeno-associated vectors\n",
    "---\n",
    "\n",
    "![](files/fig/gt.png)"
   ]
  },
  {
   "cell_type": "markdown",
   "metadata": {
    "collapsed": true,
    "slideshow": {
     "slide_type": "subslide"
    }
   },
   "source": [
    "## Gene therapy is no longer *Science Fiction*\n",
    "---\n",
    "\n",
    "* **Recent therapeutic successes** : Hemophilia A, Leber’s congenital amaurosis\n",
    "\n",
    "\n",
    "* **Other applications** : Suicide genes for cancer gene therapy, anti-viral gene therapy, genetic vaccination …\n",
    "\n",
    "\n",
    "![](files/fig/DNA.svg)"
   ]
  },
  {
   "cell_type": "markdown",
   "metadata": {
    "slideshow": {
     "slide_type": "subslide"
    }
   },
   "source": [
    "## Producing rAAV vectors by transient transfection requires large amount of DNA\n",
    "---\n",
    "\n",
    "![](files/fig/AAV_prod.svg)"
   ]
  },
  {
   "cell_type": "markdown",
   "metadata": {
    "slideshow": {
     "slide_type": "subslide"
    }
   },
   "source": [
    "## A lot of contaminants can be found in purified rAAV preparations\n",
    "---\n",
    "\n",
    "![](files/fig/AAV_contaminants.svg)"
   ]
  },
  {
   "cell_type": "markdown",
   "metadata": {
    "slideshow": {
     "slide_type": "subslide"
    }
   },
   "source": [
    "## Contaminating DNA sequences entail a significant safety hazard\n",
    "---\n",
    "\n",
    "![](files/fig/AAV_DNA_contaminants.svg)\n",
    "\n",
    "\n",
    "* Biosafety issues (antibiotic resistance genes, viral genes, oncogènes)\n",
    "* Reduce the therapeutic efficacy"
   ]
  },
  {
   "cell_type": "markdown",
   "metadata": {
    "slideshow": {
     "slide_type": "subslide"
    }
   },
   "source": [
    "## rAAV manufacturing process development require precise and exhaustive QC characterization of DNA in preparations\n",
    "---\n",
    "\n",
    "![](files/fig/arrow.svg)\n",
    "\n",
    "**Quantification of individual targets by qPCR** is the current reference method \n",
    "\n",
    "**NextGen Sequencing** is perfect to reach this goal !"
   ]
  },
  {
   "cell_type": "markdown",
   "metadata": {
    "slideshow": {
     "slide_type": "slide"
    }
   },
   "source": [
    "## SSV-Seq: a QC compliant protocol for characterization to single stranded DNA viruses by NGS\n",
    "---\n",
    "\n",
    "![](files/fig/SSVSeq.svg)"
   ]
  },
  {
   "cell_type": "markdown",
   "metadata": {
    "slideshow": {
     "slide_type": "subslide"
    }
   },
   "source": [
    "## Development of a dedicated bioinformatic pipeline : ContaVect\n",
    "---\n",
    "![](files/fig/Contavect.svg)"
   ]
  },
  {
   "cell_type": "markdown",
   "metadata": {
    "slideshow": {
     "slide_type": "subslide"
    }
   },
   "source": [
    "## *in silico* validation of ContaVect\n",
    "---\n",
    "\n",
    "Control dataset mimicking DNA contaminants in rAAV preparations\n",
    "\n",
    "![](files/fig/insilico.svg)\n",
    "![](files/fig/arrow.svg)"
   ]
  },
  {
   "cell_type": "markdown",
   "metadata": {
    "slideshow": {
     "slide_type": "slide"
    }
   },
   "source": [
    "## The distribution of DNA contaminants identified by NGS correlates with qPCR data\n",
    "---\n",
    "![](files/fig/Corelation_NGS_qPCR.svg)\n"
   ]
  },
  {
   "cell_type": "markdown",
   "metadata": {
    "slideshow": {
     "slide_type": "subslide"
    }
   },
   "source": [
    "## Analyzing the density of contaminants from the packaging cells genome\n",
    "---\n",
    "![](files/fig/human_genome_distribution.svg)\n"
   ]
  },
  {
   "cell_type": "markdown",
   "metadata": {
    "slideshow": {
     "slide_type": "subslide"
    }
   },
   "source": [
    "## Qualitative analysis of rAAV genomes in particles\n",
    "---\n",
    "![](files/fig/HD map_cov.png)\n",
    "\n",
    "**Homogenous encapsidation** of the vector genome compared with the control"
   ]
  },
  {
   "cell_type": "markdown",
   "metadata": {
    "collapsed": true,
    "slideshow": {
     "slide_type": "subslide"
    }
   },
   "source": [
    "## Qualitative analysis of rAAV genome in particles\n",
    "![](files/fig/HD map_mut.png)\n",
    "\n",
    "**Rare SNVs** also found in the control (plasmid used to produce vectors) \n",
    "\n",
    "![](files/fig/arrow.svg)"
   ]
  },
  {
   "cell_type": "markdown",
   "metadata": {
    "slideshow": {
     "slide_type": "slide"
    }
   },
   "source": [
    "## Drawbacks and limitations\n",
    "---\n",
    "* Contamination by exogenous Human and Bacterial DNA during library preparation\n",
    "    * *Negative control + Strict guidelines for wetlab + follow-up of unmapped reads*\n",
    "\n",
    "\n",
    "* Cross contamination of Samples during Illumina Sequencing / demultiplexing\n",
    "    * *Custom demultiplexer + double indexing*\n",
    "\n",
    "\n",
    "* Quantitative bias due to over/under amplified DNA regions\n",
    "    * *Use a of a control normalyzer + molecular indexing*"
   ]
  },
  {
   "cell_type": "markdown",
   "metadata": {
    "slideshow": {
     "slide_type": "subslide"
    }
   },
   "source": [
    "## Achievements and perspectives\n",
    "---\n",
    "\n",
    "* Quantification of DNA contaminants consistant with the reference method\n",
    "* In-depth single base resolution, identification of unexpected contaminants\n",
    "* High definition map of rAAV genome => indication on the therapeutic index\n",
    "\n",
    "\n",
    "* Publication and implementation in R&D core\n",
    "* Futur QC for clinical grade rAAV vectors\n",
    "![](files/fig/arrow.svg)"
   ]
  },
  {
   "cell_type": "markdown",
   "metadata": {
    "slideshow": {
     "slide_type": "slide"
    }
   },
   "source": [
    "# Acknowledgements\n",
    "---\n",
    "**INSERM UMR 1089**\n",
    "* Emilie Lecomte\n",
    "* Benoit Tournaire\n",
    "* Benjamin Cogné\n",
    "* Jean-Baptiste Dupont\n",
    "* Frederic Broucque\n",
    "* Mélanie Martin-Fontaine\n",
    "* Cécile Robin\n",
    "* Veronique Blouin\n",
    "* Achille François\n",
    "* Philippe Moullier\n",
    "\n",
    "**Infrastructure Nantaise de génomique et de bioinformatique**\n",
    "* Pierre Lindenbaum\n",
    "* Audrey Donnart\n",
    "* Eric Charpentier\n",
    "* Richard Redon\n",
    "\n",
    "**Genethon**\n",
    "* Otto-Wilhelm Merten\n",
    "* Matthias Hebben\n",
    "\n",
    "![](files/fig/logo.svg)"
   ]
  }
 ],
 "metadata": {
  "celltoolbar": "Slideshow",
  "kernelspec": {
   "display_name": "Python 3",
   "language": "python",
   "name": "python3"
  },
  "language_info": {
   "codemirror_mode": {
    "name": "ipython",
    "version": 3
   },
   "file_extension": ".py",
   "mimetype": "text/x-python",
   "name": "python",
   "nbconvert_exporter": "python",
   "pygments_lexer": "ipython3",
   "version": "3.3.2+"
  }
 },
 "nbformat": 4,
 "nbformat_minor": 0
}
