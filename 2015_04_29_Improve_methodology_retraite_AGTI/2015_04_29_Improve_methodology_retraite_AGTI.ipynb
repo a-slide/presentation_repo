{
 "cells": [
  {
   "cell_type": "code",
   "execution_count": null,
   "metadata": {
    "collapsed": true
   },
   "outputs": [],
   "source": []
  },
  {
   "cell_type": "markdown",
   "metadata": {
    "slideshow": {
     "slide_type": "skip"
    }
   },
   "source": [
    "# PREPARE RISE PRESENTATION"
   ]
  },
  {
   "cell_type": "code",
   "execution_count": 1,
   "metadata": {
    "collapsed": false,
    "slideshow": {
     "slide_type": "skip"
    }
   },
   "outputs": [
    {
     "data": {
      "text/plain": [
       "{'start_slideshow_at': 'selected', 'theme': 'blood', 'transition': 'linear'}"
      ]
     },
     "execution_count": 1,
     "metadata": {},
     "output_type": "execute_result"
    }
   ],
   "source": [
    "from IPython.html.services.config import ConfigManager\n",
    "from IPython.utils.path import locate_profile\n",
    "cm = ConfigManager(profile_dir=locate_profile(get_ipython().profile))\n",
    "cm.update('livereveal', {\n",
    "              'theme': 'blood',\n",
    "              'transition': 'linear',\n",
    "              'start_slideshow_at': 'selected'})\n",
    "\n",
    "# transition = default/cube/page/concave/zoom/linear/none\n",
    "# theme = beige/blood/default/moon/night/serif/simple/sky/solarized\n",
    "# start_slideshow_at = selected/beginning"
   ]
  },
  {
   "cell_type": "markdown",
   "metadata": {
    "slideshow": {
     "slide_type": "skip"
    }
   },
   "source": [
    "# PRESENTATION STARTS BELOW"
   ]
  },
  {
   "cell_type": "markdown",
   "metadata": {
    "slideshow": {
     "slide_type": "slide"
    }
   },
   "source": [
    "#Can we improve our methodology ?"
   ]
  },
  {
   "cell_type": "markdown",
   "metadata": {
    "slideshow": {
     "slide_type": "fragment"
    }
   },
   "source": [
    "**Sure we can!**"
   ]
  },
  {
   "cell_type": "markdown",
   "metadata": {
    "slideshow": {
     "slide_type": "fragment"
    }
   },
   "source": [
    "#Why we have to improve our methodologies, analyses and reporting\n",
    "\n",
    "**Emilie Lecomte / Jean-Baptiste Dupont / Célia Couzinié / Adrien Leger**\n",
    "\n",
    "**Retraite AGT / 29 Avril 2015**"
   ]
  },
  {
   "cell_type": "markdown",
   "metadata": {
    "slideshow": {
     "slide_type": "slide"
    }
   },
   "source": [
    "#Believe it or not but Science is in a reproducibility crisis\n",
    "\n",
    "* Florian Prinz et al (2011), *How much can we rely on published data on potential drug targets?* Nature Reviews Drug Discovery 10, 712\n",
    "\n",
    "* Editorial board (2012). *Must try harder*. Nature 483: 509–509.\n",
    "\n",
    "* Landis et al. (2012). *A call for transparent reporting to optimize the predictive value of preclinical research.* Nature 490: 187–191.\n",
    "\n",
    "* Ioannidis, JPA (2005). *Why Most Published Research Findings Are False*. PLoS Med 2: e124."
   ]
  },
  {
   "cell_type": "markdown",
   "metadata": {
    "slideshow": {
     "slide_type": "subslide"
    }
   },
   "source": [
    "### I have numbers...\n",
    "\n"
   ]
  },
  {
   "cell_type": "markdown",
   "metadata": {
    "slideshow": {
     "slide_type": "subslide"
    }
   },
   "source": [
    "###More numbers ..."
   ]
  },
  {
   "cell_type": "markdown",
   "metadata": {
    "slideshow": {
     "slide_type": "fragment"
    }
   },
   "source": [
    "bla bla"
   ]
  },
  {
   "cell_type": "markdown",
   "metadata": {
    "slideshow": {
     "slide_type": "subslide"
    }
   },
   "source": [
    "###And Nature group created the open acces collection\n",
    "\n",
    "### \"[Challenges in irreproducible research](http://www.nature.com.gate2.inist.fr/nature/focus/reproducibility/index.html)\"\n",
    "\n",
    "![Design](files/fig/nature.png)\n"
   ]
  },
  {
   "cell_type": "markdown",
   "metadata": {
    "slideshow": {
     "slide_type": "slide"
    }
   },
   "source": [
    "#What are the consequences ?"
   ]
  },
  {
   "cell_type": "markdown",
   "metadata": {
    "slideshow": {
     "slide_type": "subslide"
    }
   },
   "source": [
    "### Drug companies fail to reproduce a large proportion of academic discoveries\n",
    "\n",
    "Public sourcing Drug development pipeline from Bayer HealthCare (and many other companies)\n",
    "\n",
    "* Find exciting published data in scientific literature\n",
    "* In house replication program\n",
    "* Large scale clinical trial \n",
    "\n",
    "![](files/fig/reproducibility_piechart.png)"
   ]
  },
  {
   "cell_type": "markdown",
   "metadata": {
    "slideshow": {
     "slide_type": "subslide"
    }
   },
   "source": [
    "### High failure rate of clinical trial\n",
    "\n",
    "Arrowsmith, J (2011). *Trial watch: Phase II failures: 2008–2010*. Nature Reviews Drug Discovery 10: 328–329.\n",
    "\n",
    "108 failures of clinical trials divided according to cause and therapeutic area.\n",
    "\n",
    "![](http://www.nature.com/nrd/journal/v10/n5/images/nrd3439-f1.jpg)\n"
   ]
  },
  {
   "cell_type": "markdown",
   "metadata": {
    "slideshow": {
     "slide_type": "subslide"
    }
   },
   "source": [
    "###Biotech and Big Pharma lose confidence in academics\n",
    "\n",
    "Drug companies face this probem all the time. They read about cutting-edge discoveries being made in academic labs, but when they try to reproduce the experiments, they can’t. Scientists at a German pharmaceutical company who tried to reproduce the results in 67 published studies told the readers of Nature that they only succeeded one quarter of the time. Likewise, the American company Amgen found they could only replicate the results for 6 out of 53 published cancer studies.\n",
    "\n",
    "![](files/fig/irrepro_target_validation.jpg)"
   ]
  },
  {
   "cell_type": "markdown",
   "metadata": {
    "slideshow": {
     "slide_type": "slide"
    }
   },
   "source": [
    "#What caused the reproducibility crisis?\n"
   ]
  },
  {
   "cell_type": "markdown",
   "metadata": {
    "slideshow": {
     "slide_type": "subslide"
    }
   },
   "source": [
    "### Scientific fraud\n",
    "\n",
    "\"*How to succeed in science (without doing any)*\"\n",
    "\n",
    "![](files/fig/fraud-saint.jpg)"
   ]
  },
  {
   "cell_type": "markdown",
   "metadata": {
    "slideshow": {
     "slide_type": "subslide"
    }
   },
   "source": [
    "** Real issue but concerns only an small proportion of irreproductible studies**\n",
    "\n",
    "![](files/fig/Research conduct.jpg)"
   ]
  },
  {
   "cell_type": "markdown",
   "metadata": {
    "slideshow": {
     "slide_type": "subslide"
    }
   },
   "source": [
    "### Unrelated data panels / missing references / incorrect controls\n",
    "\n",
    "=> big classic"
   ]
  },
  {
   "cell_type": "markdown",
   "metadata": {
    "slideshow": {
     "slide_type": "subslide"
    }
   },
   "source": [
    "###  Pseudo replicates\n",
    "Failure to understand the difference between technical and biological replicates ="
   ]
  },
  {
   "cell_type": "markdown",
   "metadata": {
    "slideshow": {
     "slide_type": "subslide"
    }
   },
   "source": [
    "### Data handling\n",
    "\n",
    "* Interim data analysis\n",
    "* Ad hoc exclusion of data\n"
   ]
  },
  {
   "cell_type": "markdown",
   "metadata": {
    "slideshow": {
     "slide_type": "subslide"
    }
   },
   "source": [
    "### Misusage and Over-interpretation of statistical tests\n",
    "\n",
    "Nuzzo, R (2014). *Scientific method: Statistical errors* Nature 506: 150–152.\n",
    "\n",
    "Halsey, LG, et al (2015). *The fickle P value generates irreproducible results* Nature Methods 12: 179–185.\n",
    "\n",
    "\n",
    "![](files/fig/pvalue_art.jpg)"
   ]
  },
  {
   "cell_type": "markdown",
   "metadata": {
    "slideshow": {
     "slide_type": "subslide"
    }
   },
   "source": [
    "### Underpowered studies = Small effect sizes\n",
    "\n",
    "When unlikely hypotheses are tested, most positive results of underpowered studies can be wrong\n",
    "\n",
    "Krzywinski, M & Altman, N (2013). *Points of significance: Power and sample size*. Nature Methods 10: 1139–1140.\n",
    "\n",
    "![](files/fig/underpower.png)\n",
    "\n"
   ]
  },
  {
   "cell_type": "markdown",
   "metadata": {
    "slideshow": {
     "slide_type": "subslide"
    }
   },
   "source": [
    "### Inaccurate and incomplete reporting of methods\n",
    "\n",
    "Impossibility to reproduce results example\n"
   ]
  },
  {
   "cell_type": "markdown",
   "metadata": {
    "slideshow": {
     "slide_type": "slide"
    }
   },
   "source": [
    "#How do we fix it?"
   ]
  },
  {
   "cell_type": "markdown",
   "metadata": {
    "slideshow": {
     "slide_type": "subslide"
    }
   },
   "source": [
    "### Formal training in statistics and study design\n",
    " \n",
    "**Core training for PhD students postdoc and principal investigators**\n",
    "\n",
    "* Basic statistics and graphic representation for life sciences\n",
    "* Experimental methods and experimental design\n",
    "* Data handling and analysis\n",
    "* Understand the issues of emerging technologies\n",
    "* Compulsory refresher courses"
   ]
  },
  {
   "cell_type": "markdown",
   "metadata": {
    "slideshow": {
     "slide_type": "subslide"
    }
   },
   "source": [
    "![](files/fig/animated_principle.gif)\n",
    "\n",
    "*\"In essence, this is the right thing to do, if only it was not for me to do it\"*"
   ]
  },
  {
   "cell_type": "markdown",
   "metadata": {
    "slideshow": {
     "slide_type": "fragment"
    }
   },
   "source": [
    "**Or hire a biostatistician/methodologist**\n"
   ]
  },
  {
   "cell_type": "markdown",
   "metadata": {
    "slideshow": {
     "slide_type": "subslide"
    }
   },
   "source": [
    "### Basic study design, in the twenty-first century \n",
    "\n",
    "* Study have to be designed **before starting** new projects\n",
    "* Define **exclusion criteria** for experimments and to outlyer\n",
    "* Requierement that **subjective end points** are assessed by blinded investigators\n",
    "* Inclusion of **appropriate controls** \n",
    "* Use **highly relevant** animal models in biomedical research\n",
    "\n",
    "![](files/fig/blindfolded.jpg)"
   ]
  },
  {
   "cell_type": "markdown",
   "metadata": {
    "slideshow": {
     "slide_type": "subslide"
    }
   },
   "source": [
    "### How to deal with small sample ( 5 to 30 animals per group)\n",
    "\n",
    "* Randomization of animals\n",
    "\n",
    "* Prefer biological replicates over technical => Mix together what is mixeable = independant\n",
    "\n",
    "* For advanced preclinical studies\n",
    "    * Reduce the number of experiental conditions\n",
    "    \n",
    "* Be more stringent in statistical tests\n",
    "    * Use non parametric analyses unless you have a very good reason to use parametric tests"
   ]
  },
  {
   "cell_type": "markdown",
   "metadata": {
    "slideshow": {
     "slide_type": "subslide"
    }
   },
   "source": [
    "### Large scale efforts\n",
    "\n",
    "**Standardization**\n",
    "\n",
    "Participate and follow international community guidelines\n",
    "\n",
    "**Replication**\n",
    "\n",
    "Replicates findings by other methods and external teams (for high impact journals)\n",
    "\n",
    "![](files/fig/reproducibility_opener.jpg)"
   ]
  },
  {
   "cell_type": "markdown",
   "metadata": {
    "slideshow": {
     "slide_type": "subslide"
    }
   },
   "source": [
    "### Future directions\n",
    "\n",
    "**Lab Robotics & Automation**\n",
    "\n",
    "Reduce experimenter variability and contamination during preparation of samples.\n",
    "\n",
    "Check Hayden, E (2014). *The automated lab.* Nature 516: 131–132.\n",
    "\n",
    "\n",
    "![](files/fig/Tool.jpg)"
   ]
  },
  {
   "cell_type": "markdown",
   "metadata": {
    "slideshow": {
     "slide_type": "slide"
    }
   },
   "source": [
    "### Open and extensive reporting of methods\n",
    "\n",
    "**=> Report the methodology extensively, Provide raw tables in sup data in addition to graphics**\n",
    "\n",
    "* Non publication of negative results"
   ]
  }
 ],
 "metadata": {
  "celltoolbar": "Slideshow",
  "kernelspec": {
   "display_name": "Python 3",
   "language": "python",
   "name": "python3"
  },
  "language_info": {
   "codemirror_mode": {
    "name": "ipython",
    "version": 3
   },
   "file_extension": ".py",
   "mimetype": "text/x-python",
   "name": "python",
   "nbconvert_exporter": "python",
   "pygments_lexer": "ipython3",
   "version": "3.3.2+"
  }
 },
 "nbformat": 4,
 "nbformat_minor": 0
}
