{
 "cells": [
  {
   "cell_type": "markdown",
   "metadata": {
    "slideshow": {
     "slide_type": "slide"
    }
   },
   "source": [
    "#Can we improve our methodology ?\n",
    "\n",
    "### Adrien Leger\n",
    "### Emilie Lecomte\n",
    "### Jean-Baptiste Dupont\n",
    "### Célia Couzinié\n",
    "\n",
    "![](http://static.blog.mendeley.com/wp-content/uploads/2012/08/Reproducibility-Initiative_resized.png)"
   ]
  },
  {
   "cell_type": "markdown",
   "metadata": {
    "slideshow": {
     "slide_type": "slide"
    }
   },
   "source": [
    "#Reproducibility crisis in science\n",
    "\n",
    "Believe it or not: how much can we rely on published data on potential drug targets?\n",
    "\n",
    "Florian Prinz, Thomas Schlange & Khusru Asadullah\n",
    "\n",
    "Nature Reviews Drug Discovery 10, 712 (September 2011)"
   ]
  },
  {
   "cell_type": "markdown",
   "metadata": {
    "slideshow": {
     "slide_type": "fragment"
    }
   },
   "source": [
    "![](http://www.nature.com.gate2.inist.fr/nrd/journal/v10/n9/images/nrd3439-c1-f1.jpg)"
   ]
  },
  {
   "cell_type": "code",
   "execution_count": null,
   "metadata": {
    "collapsed": true
   },
   "outputs": [],
   "source": []
  }
 ],
 "metadata": {
  "celltoolbar": "Slideshow",
  "kernelspec": {
   "display_name": "Python 3",
   "language": "python",
   "name": "python3"
  },
  "language_info": {
   "codemirror_mode": {
    "name": "ipython",
    "version": 3
   },
   "file_extension": ".py",
   "mimetype": "text/x-python",
   "name": "python",
   "nbconvert_exporter": "python",
   "pygments_lexer": "ipython3",
   "version": "3.3.2+"
  }
 },
 "nbformat": 4,
 "nbformat_minor": 0
}
