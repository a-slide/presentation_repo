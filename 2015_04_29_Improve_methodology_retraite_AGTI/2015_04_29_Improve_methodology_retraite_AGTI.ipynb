{
 "cells": [
  {
   "cell_type": "markdown",
   "metadata": {
    "slideshow": {
     "slide_type": "skip"
    }
   },
   "source": [
    "# PREPARE RISE PRESENTATION"
   ]
  },
  {
   "cell_type": "code",
   "execution_count": 15,
   "metadata": {
    "collapsed": false,
    "slideshow": {
     "slide_type": "skip"
    }
   },
   "outputs": [
    {
     "data": {
      "text/plain": [
       "{'start_slideshow_at': 'selected',\n",
       " 'theme': 'solarized',\n",
       " 'transition': 'linear'}"
      ]
     },
     "execution_count": 15,
     "metadata": {},
     "output_type": "execute_result"
    }
   ],
   "source": [
    "from IPython.html.services.config import ConfigManager\n",
    "from IPython.utils.path import locate_profile\n",
    "cm = ConfigManager(profile_dir=locate_profile(get_ipython().profile))\n",
    "cm.update('livereveal', {\n",
    "              'theme': 'solarized',\n",
    "              'transition': 'linear',\n",
    "              'start_slideshow_at': 'selected'})\n",
    "\n",
    "# transition = default/cube/page/concave/zoom/linear/none\n",
    "# theme = beige/blood/default/moon/night/serif/simple/sky/solarized\n",
    "# start_slideshow_at = selected/beginning"
   ]
  },
  {
   "cell_type": "code",
   "execution_count": 16,
   "metadata": {
    "collapsed": true,
    "slideshow": {
     "slide_type": "skip"
    }
   },
   "outputs": [],
   "source": [
    "from IPython.display import HTML, Image, SVG, YouTubeVideo"
   ]
  },
  {
   "cell_type": "markdown",
   "metadata": {
    "slideshow": {
     "slide_type": "skip"
    }
   },
   "source": [
    "# PRESENTATION STARTS BELOW"
   ]
  },
  {
   "cell_type": "markdown",
   "metadata": {
    "slideshow": {
     "slide_type": "slide"
    }
   },
   "source": [
    "#Can we improve our methodology ?"
   ]
  },
  {
   "cell_type": "markdown",
   "metadata": {
    "slideshow": {
     "slide_type": "fragment"
    }
   },
   "source": [
    "**Sure we can!**"
   ]
  },
  {
   "cell_type": "markdown",
   "metadata": {
    "slideshow": {
     "slide_type": "fragment"
    }
   },
   "source": [
    "#Why we have to improve our methodologies, analyses and reporting\n",
    "\n",
    "**Emilie Lecomte / Jean-Baptiste Dupont / Célia Couzinié / Adrien Leger**\n",
    "\n",
    "**Retraite AGT / 29 Avril 2015**"
   ]
  },
  {
   "cell_type": "markdown",
   "metadata": {
    "slideshow": {
     "slide_type": "slide"
    }
   },
   "source": [
    "#Believe it or not but Science is in a reproducibility crisis\n",
    "\n",
    "Florian Prinz et al (2011), *How much can we rely on published data on potential drug targets?* Nature Reviews Drug Discovery 10, 712\n",
    "\n",
    "Editorial board (2012). *Must try harder*. Nature 483: 509–509.\n",
    "\n",
    "Landis et al. (2012). *A call for transparent reporting to optimize the predictive value of preclinical research.* Nature 490: 187–191.\n",
    "\n"
   ]
  },
  {
   "cell_type": "markdown",
   "metadata": {
    "slideshow": {
     "slide_type": "subslide"
    }
   },
   "source": [
    "### I have numbers..."
   ]
  },
  {
   "cell_type": "markdown",
   "metadata": {
    "slideshow": {
     "slide_type": "fragment"
    }
   },
   "source": [
    "![](http://www.nature.com.gate2.inist.fr/nrd/journal/v10/n9/images/nrd3439-c1-f1.jpg)"
   ]
  },
  {
   "cell_type": "markdown",
   "metadata": {
    "slideshow": {
     "slide_type": "subslide"
    }
   },
   "source": [
    "###More numbers ..."
   ]
  },
  {
   "cell_type": "markdown",
   "metadata": {
    "slideshow": {
     "slide_type": "fragment"
    }
   },
   "source": [
    "bla bla"
   ]
  },
  {
   "cell_type": "markdown",
   "metadata": {
    "slideshow": {
     "slide_type": "subslide"
    }
   },
   "source": [
    "###And Nature group created the open acces collection\n",
    "\n",
    "### \"[Challenges in irreproducible research](http://www.nature.com.gate2.inist.fr/nature/focus/reproducibility/index.html)\"\n",
    "\n",
    "![Design](files/fig/nature.png)\n"
   ]
  },
  {
   "cell_type": "markdown",
   "metadata": {
    "slideshow": {
     "slide_type": "slide"
    }
   },
   "source": [
    "#What are the consequences ?\n"
   ]
  },
  {
   "cell_type": "markdown",
   "metadata": {
    "slideshow": {
     "slide_type": "fragment"
    }
   },
   "source": [
    "* Biotech failure\n",
    "* ..."
   ]
  },
  {
   "cell_type": "markdown",
   "metadata": {
    "slideshow": {
     "slide_type": "subslide"
    }
   },
   "source": [
    "###Biotech and Big Pharma loose confidence in academics\n",
    "\n",
    "![](http://www.addconsortium.org/EVENTS/EV1000165.jpg)"
   ]
  },
  {
   "cell_type": "markdown",
   "metadata": {
    "slideshow": {
     "slide_type": "slide"
    }
   },
   "source": [
    "#What caused the reproducibility crisis?\n"
   ]
  },
  {
   "cell_type": "markdown",
   "metadata": {
    "slideshow": {
     "slide_type": "subslide"
    }
   },
   "source": [
    "### Scientific fraud\n",
    "\n",
    "** Real issue but concerns only an small proportion of irreproductible studies**\n",
    "\n",
    "![](http://languagelog.ldc.upenn.edu/myl/NoahsPublisher.gif)"
   ]
  },
  {
   "cell_type": "markdown",
   "metadata": {
    "slideshow": {
     "slide_type": "subslide"
    }
   },
   "source": [
    "### Unrelated data panels / missing references / incorrect controls\n",
    "\n",
    "=> big classic"
   ]
  },
  {
   "cell_type": "markdown",
   "metadata": {
    "slideshow": {
     "slide_type": "subslide"
    }
   },
   "source": [
    "###  Pseudo replicates\n",
    "Failure to understand the difference between technical and biological replicates ="
   ]
  },
  {
   "cell_type": "markdown",
   "metadata": {
    "slideshow": {
     "slide_type": "subslide"
    }
   },
   "source": [
    "### Underpowered studies = Small effect sizes\n",
    "\n",
    "There may be an significant difference between 2 experimental groups but the study is underpowered and the conclusion indicate an absence of difference ... \n",
    "\n",
    "Example Garcia 1 dog..."
   ]
  },
  {
   "cell_type": "markdown",
   "metadata": {
    "slideshow": {
     "slide_type": "subslide"
    }
   },
   "source": [
    "### Data handling\n",
    "\n",
    "* Interim data analysis\n",
    "* Ad hoc exclusion of data\n"
   ]
  },
  {
   "cell_type": "markdown",
   "metadata": {
    "slideshow": {
     "slide_type": "subslide"
    }
   },
   "source": [
    "### Misusage and Over-interpretation of statistical tests\n",
    "\n",
    "Nuzzo, R (2014). *Scientific method: Statistical errors*. Nature 506: 150–152.\n",
    "\n",
    "![](http://www.nature.com.gate2.inist.fr/polopoly_fs/7.15481.1392118822!/image/pvalue_art.jpg_gen/derivatives/landscape_630/pvalue_art.jpg)"
   ]
  },
  {
   "cell_type": "markdown",
   "metadata": {
    "slideshow": {
     "slide_type": "subslide"
    }
   },
   "source": [
    "### Inaccurate and incomplete reporting of methods\n",
    "\n",
    "Impossibility to reproduce results example = experiment acinar Ed\n",
    "\n",
    "**=> Report the methodology extensively, Provide raw tables in sup data in addition to graphics**"
   ]
  },
  {
   "cell_type": "markdown",
   "metadata": {
    "slideshow": {
     "slide_type": "slide"
    }
   },
   "source": [
    "#How do we fix it?"
   ]
  },
  {
   "cell_type": "markdown",
   "metadata": {
    "slideshow": {
     "slide_type": "subslide"
    }
   },
   "source": [
    " ### Formal training in statistics and study design of project leader \n",
    " ### Or\n",
    " ###work with consultants in methodology design and statistics "
   ]
  },
  {
   "cell_type": "markdown",
   "metadata": {
    "slideshow": {
     "slide_type": "fragment"
    }
   },
   "source": [
    "**Pas le temps! Pas l'argent! ...**\n",
    " \n",
    " ![](http://38.media.tumblr.com/df91e5cf7e1bfe9f8568b8e1a5a471f3/tumblr_nld3boY3Il1s8pd5uo1_500.gif)"
   ]
  },
  {
   "cell_type": "markdown",
   "metadata": {},
   "source": [
    "**Study have to be designed before starting new projects**\n",
    "**Exclusion criteria for all experimental protocols**\n",
    "**"
   ]
  },
  {
   "cell_type": "markdown",
   "metadata": {
    "slideshow": {
     "slide_type": "subslide"
    }
   },
   "source": [
    "### Small sample effects\n",
    "\n",
    "* Randomisation of animals\n",
    "\n",
    "* For advanced preclinical studies = Reduce the number of experiental conditions\n",
    "\n",
    "* Be more stringent in statistical tests = don't choose a statistical test because it looks better with your data "
   ]
  },
  {
   "cell_type": "markdown",
   "metadata": {
    "slideshow": {
     "slide_type": "slide"
    }
   },
   "source": [
    "Standardization\n",
    "Blinding"
   ]
  },
  {
   "cell_type": "markdown",
   "metadata": {
    "slideshow": {
     "slide_type": "slide"
    }
   },
   "source": [
    "![](http://38.media.tumblr.com/d165f749635c27b7500f8adf2f37628a/tumblr_nl8zsrgLWw1s8pd5uo1_400.gif)"
   ]
  }
 ],
 "metadata": {
  "celltoolbar": "Slideshow",
  "kernelspec": {
   "display_name": "Python 3",
   "language": "python",
   "name": "python3"
  },
  "language_info": {
   "codemirror_mode": {
    "name": "ipython",
    "version": 3
   },
   "file_extension": ".py",
   "mimetype": "text/x-python",
   "name": "python",
   "nbconvert_exporter": "python",
   "pygments_lexer": "ipython3",
   "version": "3.3.2+"
  }
 },
 "nbformat": 4,
 "nbformat_minor": 0
}
