{
 "cells": [
  {
   "cell_type": "markdown",
   "metadata": {
    "slideshow": {
     "slide_type": "skip"
    }
   },
   "source": [
    "# PREPARE RISE PARAMETERS"
   ]
  },
  {
   "cell_type": "code",
   "execution_count": 1,
   "metadata": {
    "collapsed": false,
    "slideshow": {
     "slide_type": "skip"
    }
   },
   "outputs": [
    {
     "data": {
      "text/plain": [
       "{'start_slideshow_at': 'selected', 'theme': 'blood', 'transition': 'linear'}"
      ]
     },
     "execution_count": 1,
     "metadata": {},
     "output_type": "execute_result"
    }
   ],
   "source": [
    "from IPython.html.services.config import ConfigManager\n",
    "from IPython.utils.path import locate_profile\n",
    "cm = ConfigManager(profile_dir=locate_profile(get_ipython().profile))\n",
    "cm.update('livereveal', {\n",
    "              'theme': 'blood',\n",
    "              'transition': 'linear',\n",
    "              'start_slideshow_at': 'selected'})\n",
    "\n",
    "# transition = default/cube/page/concave/zoom/linear/none\n",
    "# theme = beige/blood/default/moon/night/serif/simple/sky/solarized\n",
    "# start_slideshow_at = selected/beginning"
   ]
  },
  {
   "cell_type": "markdown",
   "metadata": {
    "slideshow": {
     "slide_type": "skip"
    }
   },
   "source": [
    "# PRESENTATION STARTS BELOW"
   ]
  },
  {
   "cell_type": "markdown",
   "metadata": {
    "slideshow": {
     "slide_type": "slide"
    }
   },
   "source": [
    "#Can we improve our methodology ?"
   ]
  },
  {
   "cell_type": "markdown",
   "metadata": {
    "slideshow": {
     "slide_type": "fragment"
    }
   },
   "source": [
    "**Sure we can!**"
   ]
  },
  {
   "cell_type": "markdown",
   "metadata": {
    "slideshow": {
     "slide_type": "fragment"
    }
   },
   "source": [
    "#Why we have to improve our methodologies, analyses and reporting\n",
    "\n",
    "**Emilie Lecomte / Jean-Baptiste Dupont / Célia Couzinié / Adrien Leger**\n",
    "\n",
    "**Retraite AGT / 29 Avril 2015**"
   ]
  },
  {
   "cell_type": "markdown",
   "metadata": {
    "slideshow": {
     "slide_type": "slide"
    }
   },
   "source": [
    "#Believe it or not but Science is in a reproducibility crisis"
   ]
  },
  {
   "cell_type": "markdown",
   "metadata": {
    "slideshow": {
     "slide_type": "subslide"
    }
   },
   "source": [
    "### Irreproducibility in biological sciences is largely criticized all over the web\n",
    "\n",
    "![](files/fig/presse.png)"
   ]
  },
  {
   "cell_type": "markdown",
   "metadata": {
    "slideshow": {
     "slide_type": "subslide"
    }
   },
   "source": [
    "### And in academic reviews \n",
    "\n",
    "* [Ioannidis, JPA (2005). *Why Most Published Research Findings Are False*. PLoS Med](http://journals.plos.org/plosmedicine/article?id=10.1371/journal.pmed.0020124)\n",
    "\n",
    "* [Florian Prinz et al (2011), *How much can we rely on published data on potential drug targets?* Nat. Rev. Drug Dis.](http://www.nature.com/nrd/journal/v10/n9/full/nrd3439-c1.html)\n",
    "\n",
    "* [Editorial board (2012). *Must try harder*. Nature](http://www.nature.com/nature/journal/v483/n7391/full/483509a.html)\n",
    "\n",
    "* [Landis et al. (2012). *A call for transparent reporting to optimize the predictive value of preclinical research.* Nature](http://www.nature.com/nature/journal/v490/n7419/full/nature11556.html)\n",
    "\n",
    "..."
   ]
  },
  {
   "cell_type": "markdown",
   "metadata": {
    "slideshow": {
     "slide_type": "subslide"
    }
   },
   "source": [
    "###And Nature group created the open acces collection\n",
    "\n",
    "### \"[Challenges in irreproducible research](http://www.nature.com.gate2.inist.fr/nature/focus/reproducibility/index.html)\"\n",
    "\n",
    "![Design](files/fig/nature.png)\n"
   ]
  },
  {
   "cell_type": "markdown",
   "metadata": {
    "slideshow": {
     "slide_type": "slide"
    }
   },
   "source": [
    "#What are the consequences on industrial productivity?"
   ]
  },
  {
   "cell_type": "markdown",
   "metadata": {
    "slideshow": {
     "slide_type": "subslide"
    }
   },
   "source": [
    "### Drug companies fail to reproduce a large proportion of academic discoveries\n",
    "\n",
    "**Amgen : biotech company in cancer research**\n",
    "\n",
    "* Try to reproduce the findings of 53 “landmark” articles in cancer research\n",
    "* Only 6 of the 53 studies were reproduced (about 10%)\n",
    "\n",
    "**Bayer, the pharmaceutical company**\n",
    "\n",
    "* Examined 67 target-validation projects in oncology, women’s health, and cardiovascular medicine\n",
    "* Published results were reproduced in only 14 out of 67 projects (about 21%)."
   ]
  },
  {
   "cell_type": "markdown",
   "metadata": {
    "slideshow": {
     "slide_type": "subslide"
    }
   },
   "source": [
    "![](files/fig/reproducibility_piechart.png)\n",
    "\n",
    "\n",
    "George A. Robertson (Ex Senior Scientist at Merck)\n",
    "*\"It drives people in industry crazy. Why are we seeing a collapse of the pharma and biotech industries? One possibility is that academia is not providing accurate findings\"* "
   ]
  },
  {
   "cell_type": "markdown",
   "metadata": {
    "slideshow": {
     "slide_type": "subslide"
    }
   },
   "source": [
    "### High failure rate of clinical trial\n",
    "\n",
    "[Arrowsmith, J (2011). *Trial watch: Phase II failures: 2008–2010*. Nature Reviews Drug Discovery 10: 328–329.](http://www.nature.com/nrd/journal/v10/n5/full/nrd3439.html)\n",
    "\n",
    "108 failures of clinical trials divided according to cause and therapeutic area.\n",
    "\n",
    "![](http://www.nature.com/nrd/journal/v10/n5/images/nrd3439-f1.jpg)\n"
   ]
  },
  {
   "cell_type": "markdown",
   "metadata": {
    "slideshow": {
     "slide_type": "slide"
    }
   },
   "source": [
    "#What caused the reproducibility crisis?\n"
   ]
  },
  {
   "cell_type": "markdown",
   "metadata": {
    "slideshow": {
     "slide_type": "subslide"
    }
   },
   "source": [
    "### Scientific fraud\n",
    "\n",
    "\"*How to succeed in science (without doing any)*\"\n",
    "\n",
    "![](files/fig/fraud-saint.jpg)"
   ]
  },
  {
   "cell_type": "markdown",
   "metadata": {
    "slideshow": {
     "slide_type": "subslide"
    }
   },
   "source": [
    "###Scientific fraud is real issue but it concerns only an small proportion of irreproductible studies\n",
    "\n",
    "![](files/fig/Research conduct.jpg)"
   ]
  },
  {
   "cell_type": "markdown",
   "metadata": {
    "slideshow": {
     "slide_type": "subslide"
    }
   },
   "source": [
    "### Unrelated data panels / missing references / incorrect controls\n",
    "\n",
    "* Comparing mdx mice with C57/B6J"
   ]
  },
  {
   "cell_type": "markdown",
   "metadata": {
    "slideshow": {
     "slide_type": "fragment"
    }
   },
   "source": [
    "###  Pseudo replicates\n",
    "* Failure to understand the difference linked and independent samples"
   ]
  },
  {
   "cell_type": "markdown",
   "metadata": {
    "slideshow": {
     "slide_type": "fragment"
    }
   },
   "source": [
    "### Data handling\n",
    "\n",
    "* Interim data analysis and ad hoc exclusion of data\n"
   ]
  },
  {
   "cell_type": "markdown",
   "metadata": {
    "slideshow": {
     "slide_type": "subslide"
    }
   },
   "source": [
    "### Misusage and Over-interpretation of statistical tests\n",
    "\n",
    "Nuzzo, R (2014). *Scientific method: Statistical errors* Nature\n",
    "\n",
    "Halsey, LG, et al (2015). *The fickle P value generates irreproducible results* Nat. Meth.\n",
    "\n",
    "\n",
    "![](files/fig/pvalue_art.jpg)"
   ]
  },
  {
   "cell_type": "markdown",
   "metadata": {
    "slideshow": {
     "slide_type": "subslide"
    }
   },
   "source": [
    "### Underpowered studies = Small effect sizes\n",
    "\n",
    "**When unlikely hypotheses are tested, most positive results of underpowered studies can be wrong**\n",
    "\n",
    "Button, KS, et al (2013). *Power failure: why small sample size undermines the reliability of neuroscience*. Nat. Rev. Neuro.\n",
    "\n",
    "Krzywinski, M & Altman, N (2013). *Points of significance: Power and sample size*. Nat. Meth.\n",
    "\n",
    "![](files/fig/underpower.png)\n",
    "\n"
   ]
  },
  {
   "cell_type": "markdown",
   "metadata": {
    "slideshow": {
     "slide_type": "subslide"
    }
   },
   "source": [
    "### Inaccurate and incomplete reporting of methods\n",
    "\n",
    "* Negative results are virtually never reported\n",
    "\n",
    "* Impossibility to reproduce results due to missing details or errors\n",
    "\n",
    "* Chain of references back to 1952...\n",
    "\n",
    "![](files/fig/type_machine.jpeg)"
   ]
  },
  {
   "cell_type": "markdown",
   "metadata": {
    "slideshow": {
     "slide_type": "slide"
    }
   },
   "source": [
    "#How do we fix it?"
   ]
  },
  {
   "cell_type": "markdown",
   "metadata": {
    "slideshow": {
     "slide_type": "subslide"
    }
   },
   "source": [
    "### Formal training in statistics and study design\n",
    " \n",
    "**Core training for PhD students postdoc and principal investigators**\n",
    "\n",
    "* Basic statistics and graphic representation for life sciences\n",
    "* Experimental methods and experimental design\n",
    "* Data handling and analysis\n",
    "* Understand the issues of emerging technologies\n",
    "* Compulsory refresher courses"
   ]
  },
  {
   "cell_type": "markdown",
   "metadata": {
    "slideshow": {
     "slide_type": "subslide"
    }
   },
   "source": [
    "![](files/fig/animated_principle.gif)\n",
    "\n",
    "*\"In essence, this is the right thing to do, if only it was not for me to do it\"*"
   ]
  },
  {
   "cell_type": "markdown",
   "metadata": {
    "slideshow": {
     "slide_type": "fragment"
    }
   },
   "source": [
    "**Or hire a biostatistician/methodologist to design YOUR studies and analyse YOUR data**\n"
   ]
  },
  {
   "cell_type": "markdown",
   "metadata": {
    "slideshow": {
     "slide_type": "subslide"
    }
   },
   "source": [
    "### Basic study design, in the twenty-first century \n",
    "\n",
    "* Study have to be designed **before starting** new projects\n",
    "* Define **exclusion criteria** for experimments and to outlyer\n",
    "* Requierement that **subjective end points** are assessed by blinded investigators\n",
    "* Inclusion of **appropriate controls** \n",
    "* Use **highly relevant** animal models in biomedical research\n",
    "\n",
    "![](files/fig/blindfolded.jpg)"
   ]
  },
  {
   "cell_type": "markdown",
   "metadata": {
    "slideshow": {
     "slide_type": "subslide"
    }
   },
   "source": [
    "### How to deal with small sample ( 5 to 30 animals per group)\n",
    "\n",
    "* Randomization of animals\n",
    "\n",
    "* Prefer biological replicates over technical\n",
    "    * Mix together what is mixeable\n",
    "\n",
    "\n",
    "* For advanced preclinical studies\n",
    "    * Reduce the number of experiental conditions\n",
    "    \n",
    "    \n",
    "* Be more stringent in statistical tests\n",
    "    * Use non parametric analyses unless you have a very good reason to use parametric tests"
   ]
  },
  {
   "cell_type": "markdown",
   "metadata": {
    "slideshow": {
     "slide_type": "slide"
    }
   },
   "source": [
    "# EXAMPLES !!"
   ]
  },
  {
   "cell_type": "markdown",
   "metadata": {
    "slideshow": {
     "slide_type": "slide"
    }
   },
   "source": [
    "#Large scale efforts and future directions"
   ]
  },
  {
   "cell_type": "markdown",
   "metadata": {
    "slideshow": {
     "slide_type": "subslide"
    }
   },
   "source": [
    "### Standardization\n",
    "\n",
    "**Participate and follow international community guidelines**\n",
    "\n",
    "* Quantitative PCR experiments => MIQE\n",
    "* Digital Quantitative PCR => dMIQE\n",
    "* Flow cytometry => MIFlowCyt\n",
    "* T-cell assays => MIATA\n",
    "* genome sequencing => MIGS\n",
    "\n",
    "**Use international reference material to normalyze data when available**\n",
    "\n",
    "* Ayuso, E et al. (2014). *Manufacturing and Characterization of a rAAV Type 8 Reference Standard Material*. Hum. Gene Ther"
   ]
  },
  {
   "cell_type": "markdown",
   "metadata": {
    "slideshow": {
     "slide_type": "subslide"
    }
   },
   "source": [
    "### Replication\n",
    "\n",
    "Replicates findings by other methods and external teams (for high impact journals)\n",
    "\n",
    "![](files/fig/reproducibility_opener.jpg)"
   ]
  },
  {
   "cell_type": "markdown",
   "metadata": {
    "slideshow": {
     "slide_type": "subslide"
    }
   },
   "source": [
    "### Lab Robotics & Automation\n",
    "\n",
    "Reduce experimenter variability and contaminations during preparation of samples (in conjunction with standardization) \n",
    "\n",
    "Check Hayden, E (2014). *The automated lab.* Nature 516: 131–132.\n",
    "\n",
    "\n",
    "![](files/fig/Tool.jpg)"
   ]
  },
  {
   "cell_type": "markdown",
   "metadata": {
    "slideshow": {
     "slide_type": "subslide"
    }
   },
   "source": [
    "### Open and extensive reporting of materials & methods\n",
    "\n",
    "\n",
    "the world's first peer reviewed scientific video journal : the Journal of Visualized Experiments http://www.jove.com/\n",
    "\n",
    "posting datasets to online repositories like Dryad\n",
    "\n",
    "Publish Negative result : Journal of Negative Results in Biomedicine, the All Results Journals (with subject-specific versions for chemistry, biology, nanotechnology and physics), and the Journal of Negative Results\n",
    "\n",
    "\n",
    "**Journals unite for reproducibility**\n",
    "\n",
    "![](files/fig/journals.png)\n"
   ]
  },
  {
   "cell_type": "markdown",
   "metadata": {
    "slideshow": {
     "slide_type": "subslide"
    }
   },
   "source": [
    "**Principles and Guidelines for Reporting Preclinical Research**\n",
    "\n",
    "![](files/fig/Core_rules.png)"
   ]
  }
 ],
 "metadata": {
  "celltoolbar": "Slideshow",
  "kernelspec": {
   "display_name": "Python 2",
   "language": "python",
   "name": "python2"
  },
  "language_info": {
   "codemirror_mode": {
    "name": "ipython",
    "version": 2
   },
   "file_extension": ".py",
   "mimetype": "text/x-python",
   "name": "python",
   "nbconvert_exporter": "python",
   "pygments_lexer": "ipython2",
   "version": "2.7.5+"
  }
 },
 "nbformat": 4,
 "nbformat_minor": 0
}
